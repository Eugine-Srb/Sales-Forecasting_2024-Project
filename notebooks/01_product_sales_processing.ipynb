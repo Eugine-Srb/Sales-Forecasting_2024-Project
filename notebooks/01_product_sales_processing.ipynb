{
 "cells": [
  {
   "cell_type": "code",
   "execution_count": 10,
   "id": "3bdfd6f9",
   "metadata": {},
   "outputs": [],
   "source": [
    "import pandas as pd\n",
    "import numpy as np"
   ]
  },
  {
   "cell_type": "code",
   "execution_count": 12,
   "id": "5a7d1ab6-fcdd-4f5c-b1ca-1d9030f523a7",
   "metadata": {},
   "outputs": [],
   "source": [
    "# --- PATHS & FLAGS ----------------------------------------------------\n",
    "from pathlib import Path\n",
    "import pandas as pd, requests, io\n",
    "\n",
    "# Base URL of my GitHub repo (raw view)\n",
    "BASE_URL = (\"https://raw.githubusercontent.com/\"\n",
    "            \"Eugine-Srb/Sales-Forecasting_2024-Project/main/\")\n",
    "\n",
    "\n",
    "DATA_PROC_URL = BASE_URL + \"data/raw/\"     # for imports\n",
    "\n",
    "# Local fallback folders (never pushed)\n",
    "EXPORT_DIR = Path(\"../scratch_outputs\")\n",
    "EXPORT_DIR.mkdir(exist_ok=True)\n",
    "\n",
    "# Master switch — keep False unless *really* want to re-export\n",
    "SAVE_OUTPUTS = False"
   ]
  },
  {
   "cell_type": "code",
   "execution_count": 18,
   "id": "bc2aee79-c771-4cd5-9faf-ea837c4c5d15",
   "metadata": {},
   "outputs": [],
   "source": [
    "def load_processed(name: str) -> pd.DataFrame:\n",
    "    \"\"\"Load a frozen CSV straight from GitHub raw URL.\"\"\"\n",
    "    url = DATA_PROC_URL + name\n",
    "    return pd.read_csv(url, low_memory=False)"
   ]
  },
  {
   "cell_type": "code",
   "execution_count": 20,
   "id": "028e0db7-20fb-4028-88e3-f8c9267fd5ba",
   "metadata": {},
   "outputs": [],
   "source": [
    "# Load the Product Sales dataset\n",
    "\n",
    "df = load_processed(\"02_product_sales_data_raw.csv\")"
   ]
  },
  {
   "cell_type": "code",
   "execution_count": 64,
   "id": "9ccd33d3-03ce-4d32-be43-dc86f67242d5",
   "metadata": {},
   "outputs": [
    {
     "data": {
      "text/html": [
       "<div>\n",
       "<style scoped>\n",
       "    .dataframe tbody tr th:only-of-type {\n",
       "        vertical-align: middle;\n",
       "    }\n",
       "\n",
       "    .dataframe tbody tr th {\n",
       "        vertical-align: top;\n",
       "    }\n",
       "\n",
       "    .dataframe thead th {\n",
       "        text-align: right;\n",
       "    }\n",
       "</style>\n",
       "<table border=\"1\" class=\"dataframe\">\n",
       "  <thead>\n",
       "    <tr style=\"text-align: right;\">\n",
       "      <th></th>\n",
       "      <th>Date</th>\n",
       "      <th>Product</th>\n",
       "      <th>Units_Sold</th>\n",
       "      <th>Unit_Price</th>\n",
       "    </tr>\n",
       "  </thead>\n",
       "  <tbody>\n",
       "    <tr>\n",
       "      <th>0</th>\n",
       "      <td>2019-01-01</td>\n",
       "      <td>Alpha</td>\n",
       "      <td>146.0</td>\n",
       "      <td>100.151629</td>\n",
       "    </tr>\n",
       "    <tr>\n",
       "      <th>1</th>\n",
       "      <td>2019-02-01</td>\n",
       "      <td>Alpha</td>\n",
       "      <td>144.0</td>\n",
       "      <td>120.196688</td>\n",
       "    </tr>\n",
       "    <tr>\n",
       "      <th>2</th>\n",
       "      <td>2019-03-01</td>\n",
       "      <td>Alpha</td>\n",
       "      <td>129.0</td>\n",
       "      <td>59.398194</td>\n",
       "    </tr>\n",
       "    <tr>\n",
       "      <th>3</th>\n",
       "      <td>2019-04-01</td>\n",
       "      <td>Alpha</td>\n",
       "      <td>136.0</td>\n",
       "      <td>96.559802</td>\n",
       "    </tr>\n",
       "    <tr>\n",
       "      <th>4</th>\n",
       "      <td>2019-05-01</td>\n",
       "      <td>Alpha</td>\n",
       "      <td>129.0</td>\n",
       "      <td>109.083326</td>\n",
       "    </tr>\n",
       "    <tr>\n",
       "      <th>5</th>\n",
       "      <td>2019-06-01</td>\n",
       "      <td>Alpha</td>\n",
       "      <td>86.0</td>\n",
       "      <td>132.260056</td>\n",
       "    </tr>\n",
       "    <tr>\n",
       "      <th>6</th>\n",
       "      <td>2019-07-01</td>\n",
       "      <td>Alpha</td>\n",
       "      <td>108.0</td>\n",
       "      <td>102.224326</td>\n",
       "    </tr>\n",
       "    <tr>\n",
       "      <th>7</th>\n",
       "      <td>2019-08-01</td>\n",
       "      <td>Alpha</td>\n",
       "      <td>NaN</td>\n",
       "      <td>112.289048</td>\n",
       "    </tr>\n",
       "    <tr>\n",
       "      <th>8</th>\n",
       "      <td>2019-09-01</td>\n",
       "      <td>Alpha</td>\n",
       "      <td>88.0</td>\n",
       "      <td>103.135463</td>\n",
       "    </tr>\n",
       "    <tr>\n",
       "      <th>9</th>\n",
       "      <td>2019-10-01</td>\n",
       "      <td>Alpha</td>\n",
       "      <td>108.0</td>\n",
       "      <td>122.609133</td>\n",
       "    </tr>\n",
       "    <tr>\n",
       "      <th>10</th>\n",
       "      <td>2019-11-01</td>\n",
       "      <td>Alpha</td>\n",
       "      <td>107.0</td>\n",
       "      <td>77.083225</td>\n",
       "    </tr>\n",
       "    <tr>\n",
       "      <th>11</th>\n",
       "      <td>2019-12-01</td>\n",
       "      <td>Alpha</td>\n",
       "      <td>118.0</td>\n",
       "      <td>52.535074</td>\n",
       "    </tr>\n",
       "  </tbody>\n",
       "</table>\n",
       "</div>"
      ],
      "text/plain": [
       "          Date Product  Units_Sold  Unit_Price\n",
       "0   2019-01-01   Alpha       146.0  100.151629\n",
       "1   2019-02-01   Alpha       144.0  120.196688\n",
       "2   2019-03-01   Alpha       129.0   59.398194\n",
       "3   2019-04-01   Alpha       136.0   96.559802\n",
       "4   2019-05-01   Alpha       129.0  109.083326\n",
       "5   2019-06-01   Alpha        86.0  132.260056\n",
       "6   2019-07-01   Alpha       108.0  102.224326\n",
       "7   2019-08-01   Alpha         NaN  112.289048\n",
       "8   2019-09-01   Alpha        88.0  103.135463\n",
       "9   2019-10-01   Alpha       108.0  122.609133\n",
       "10  2019-11-01   Alpha       107.0   77.083225\n",
       "11  2019-12-01   Alpha       118.0   52.535074"
      ]
     },
     "execution_count": 64,
     "metadata": {},
     "output_type": "execute_result"
    }
   ],
   "source": [
    "# Preview the first 10 rows\n",
    "df.head(12)"
   ]
  },
  {
   "cell_type": "code",
   "execution_count": 65,
   "id": "2765aa44-adc6-48e3-a058-4915effa3e10",
   "metadata": {},
   "outputs": [
    {
     "data": {
      "text/plain": [
       "Product\n",
       "Alpha    60\n",
       "Beta     60\n",
       "Gamma    60\n",
       "Delta    60\n",
       "Name: count, dtype: int64"
      ]
     },
     "execution_count": 65,
     "metadata": {},
     "output_type": "execute_result"
    }
   ],
   "source": [
    "# Explore value distribution for key columns\n",
    "df['Product'].value_counts().head()"
   ]
  },
  {
   "cell_type": "code",
   "execution_count": 66,
   "id": "265a951b-e06c-4ad9-9592-f21a509499d0",
   "metadata": {},
   "outputs": [
    {
     "data": {
      "text/plain": [
       "Date\n",
       "2019-01-01    4\n",
       "2019-02-01    4\n",
       "2021-09-01    4\n",
       "2021-10-01    4\n",
       "2021-11-01    4\n",
       "Name: count, dtype: int64"
      ]
     },
     "execution_count": 66,
     "metadata": {},
     "output_type": "execute_result"
    }
   ],
   "source": [
    "df['Date'].value_counts().head()"
   ]
  },
  {
   "cell_type": "code",
   "execution_count": 67,
   "id": "d6f09aa3-b120-4a5e-bd64-ce966e649d5c",
   "metadata": {},
   "outputs": [
    {
     "data": {
      "text/plain": [
       "Date           0\n",
       "Product        0\n",
       "Units_Sold    12\n",
       "Unit_Price     0\n",
       "dtype: int64"
      ]
     },
     "execution_count": 67,
     "metadata": {},
     "output_type": "execute_result"
    }
   ],
   "source": [
    "# Check for missing values\n",
    "df.isna().sum()"
   ]
  },
  {
   "cell_type": "code",
   "execution_count": 68,
   "id": "16ce4cbf-be64-438e-8734-a241fe05b644",
   "metadata": {},
   "outputs": [
    {
     "data": {
      "text/plain": [
       "0.05"
      ]
     },
     "execution_count": 68,
     "metadata": {},
     "output_type": "execute_result"
    }
   ],
   "source": [
    "# Share of rows with Nan\n",
    "df['Units_Sold'].isna().sum() / len(df)"
   ]
  },
  {
   "cell_type": "code",
   "execution_count": 69,
   "id": "35130beb-c034-47a7-b5bf-3f1a2dbc9131",
   "metadata": {},
   "outputs": [
    {
     "data": {
      "text/plain": [
       "count    228.00\n",
       "mean     120.00\n",
       "std       15.77\n",
       "min       85.00\n",
       "25%      107.00\n",
       "50%      119.00\n",
       "75%      131.00\n",
       "max      160.00\n",
       "Name: Units_Sold, dtype: float64"
      ]
     },
     "execution_count": 69,
     "metadata": {},
     "output_type": "execute_result"
    }
   ],
   "source": [
    "# # Basic statistics for 'Units_Sold'\n",
    "df['Units_Sold'].describe().round(2)"
   ]
  },
  {
   "cell_type": "code",
   "execution_count": 70,
   "id": "66d3ec3d-2cc5-48fc-aa4e-622c26a178dd",
   "metadata": {},
   "outputs": [
    {
     "data": {
      "text/html": [
       "<div>\n",
       "<style scoped>\n",
       "    .dataframe tbody tr th:only-of-type {\n",
       "        vertical-align: middle;\n",
       "    }\n",
       "\n",
       "    .dataframe tbody tr th {\n",
       "        vertical-align: top;\n",
       "    }\n",
       "\n",
       "    .dataframe thead th {\n",
       "        text-align: right;\n",
       "    }\n",
       "</style>\n",
       "<table border=\"1\" class=\"dataframe\">\n",
       "  <thead>\n",
       "    <tr style=\"text-align: right;\">\n",
       "      <th></th>\n",
       "      <th>Date</th>\n",
       "      <th>Product</th>\n",
       "      <th>Units_Sold</th>\n",
       "      <th>Unit_Price</th>\n",
       "    </tr>\n",
       "  </thead>\n",
       "  <tbody>\n",
       "    <tr>\n",
       "      <th>186</th>\n",
       "      <td>2019-07-01</td>\n",
       "      <td>Delta</td>\n",
       "      <td>NaN</td>\n",
       "      <td>70.498430</td>\n",
       "    </tr>\n",
       "    <tr>\n",
       "      <th>7</th>\n",
       "      <td>2019-08-01</td>\n",
       "      <td>Alpha</td>\n",
       "      <td>NaN</td>\n",
       "      <td>112.289048</td>\n",
       "    </tr>\n",
       "    <tr>\n",
       "      <th>190</th>\n",
       "      <td>2019-11-01</td>\n",
       "      <td>Delta</td>\n",
       "      <td>NaN</td>\n",
       "      <td>84.181735</td>\n",
       "    </tr>\n",
       "    <tr>\n",
       "      <th>135</th>\n",
       "      <td>2020-04-01</td>\n",
       "      <td>Gamma</td>\n",
       "      <td>NaN</td>\n",
       "      <td>116.519722</td>\n",
       "    </tr>\n",
       "    <tr>\n",
       "      <th>17</th>\n",
       "      <td>2020-06-01</td>\n",
       "      <td>Alpha</td>\n",
       "      <td>NaN</td>\n",
       "      <td>51.439349</td>\n",
       "    </tr>\n",
       "    <tr>\n",
       "      <th>218</th>\n",
       "      <td>2022-03-01</td>\n",
       "      <td>Delta</td>\n",
       "      <td>NaN</td>\n",
       "      <td>104.190095</td>\n",
       "    </tr>\n",
       "    <tr>\n",
       "      <th>163</th>\n",
       "      <td>2022-08-01</td>\n",
       "      <td>Gamma</td>\n",
       "      <td>NaN</td>\n",
       "      <td>83.349917</td>\n",
       "    </tr>\n",
       "    <tr>\n",
       "      <th>167</th>\n",
       "      <td>2022-12-01</td>\n",
       "      <td>Gamma</td>\n",
       "      <td>NaN</td>\n",
       "      <td>99.836777</td>\n",
       "    </tr>\n",
       "    <tr>\n",
       "      <th>171</th>\n",
       "      <td>2023-04-01</td>\n",
       "      <td>Gamma</td>\n",
       "      <td>NaN</td>\n",
       "      <td>58.534967</td>\n",
       "    </tr>\n",
       "    <tr>\n",
       "      <th>232</th>\n",
       "      <td>2023-05-01</td>\n",
       "      <td>Delta</td>\n",
       "      <td>NaN</td>\n",
       "      <td>129.878324</td>\n",
       "    </tr>\n",
       "    <tr>\n",
       "      <th>115</th>\n",
       "      <td>2023-08-01</td>\n",
       "      <td>Beta</td>\n",
       "      <td>NaN</td>\n",
       "      <td>67.337360</td>\n",
       "    </tr>\n",
       "    <tr>\n",
       "      <th>236</th>\n",
       "      <td>2023-09-01</td>\n",
       "      <td>Delta</td>\n",
       "      <td>NaN</td>\n",
       "      <td>61.047411</td>\n",
       "    </tr>\n",
       "  </tbody>\n",
       "</table>\n",
       "</div>"
      ],
      "text/plain": [
       "           Date Product  Units_Sold  Unit_Price\n",
       "186  2019-07-01   Delta         NaN   70.498430\n",
       "7    2019-08-01   Alpha         NaN  112.289048\n",
       "190  2019-11-01   Delta         NaN   84.181735\n",
       "135  2020-04-01   Gamma         NaN  116.519722\n",
       "17   2020-06-01   Alpha         NaN   51.439349\n",
       "218  2022-03-01   Delta         NaN  104.190095\n",
       "163  2022-08-01   Gamma         NaN   83.349917\n",
       "167  2022-12-01   Gamma         NaN   99.836777\n",
       "171  2023-04-01   Gamma         NaN   58.534967\n",
       "232  2023-05-01   Delta         NaN  129.878324\n",
       "115  2023-08-01    Beta         NaN   67.337360\n",
       "236  2023-09-01   Delta         NaN   61.047411"
      ]
     },
     "execution_count": 70,
     "metadata": {},
     "output_type": "execute_result"
    }
   ],
   "source": [
    "# Inspect missing 'Units_Sold' values by date\n",
    "df[df['Units_Sold'].isna()].sort_values(by='Date')"
   ]
  },
  {
   "cell_type": "code",
   "execution_count": 71,
   "id": "fa6db81b-3e1d-428e-b1a9-173d5336a9cf",
   "metadata": {},
   "outputs": [
    {
     "data": {
      "text/plain": [
       "Product\n",
       "Alpha    2\n",
       "Beta     1\n",
       "Delta    5\n",
       "Gamma    4\n",
       "Name: Units_Sold, dtype: int64"
      ]
     },
     "execution_count": 71,
     "metadata": {},
     "output_type": "execute_result"
    }
   ],
   "source": [
    "# Count missing values in 'Units_Sold' by product\n",
    "df.groupby('Product')['Units_Sold'].apply(lambda x: x.isna().sum())"
   ]
  },
  {
   "cell_type": "code",
   "execution_count": 72,
   "id": "a01fdfa3-b360-4acc-9caf-dadf3d5bcd89",
   "metadata": {},
   "outputs": [],
   "source": [
    "# Convert 'Date' column to datetime format\n",
    "df['Date'] = pd.to_datetime(df['Date'], errors='coerce')"
   ]
  },
  {
   "cell_type": "code",
   "execution_count": 73,
   "id": "e5f1b873-1e61-4676-beef-9349603ea29f",
   "metadata": {},
   "outputs": [],
   "source": [
    "# Extract month and year for further analysis and visualization\n",
    "df['Month'] = df['Date'].dt.strftime('%b')\n",
    "df['Year'] = df['Date'].dt.year"
   ]
  },
  {
   "cell_type": "code",
   "execution_count": 74,
   "id": "ad75c176-6aea-48f0-907c-cc1bda264a48",
   "metadata": {},
   "outputs": [
    {
     "data": {
      "text/plain": [
       "Year\n",
       "2019    3\n",
       "2020    2\n",
       "2021    0\n",
       "2022    3\n",
       "2023    4\n",
       "Name: Units_Sold, dtype: int64"
      ]
     },
     "execution_count": 74,
     "metadata": {},
     "output_type": "execute_result"
    }
   ],
   "source": [
    "# Count missing 'Units_Sold' values by year\n",
    "df.groupby('Year')['Units_Sold'].apply(lambda x : x.isna().sum())"
   ]
  },
  {
   "cell_type": "code",
   "execution_count": 75,
   "id": "e492e019-1258-4482-9576-f7817e542711",
   "metadata": {},
   "outputs": [],
   "source": [
    "# Create a boolean mask to identify which rows originally had missing (NaN) values in the 'Units_Sold' column.\n",
    "# This helps us later highlight which points were filled via interpolation.\n",
    "missing_mask = df['Units_Sold'].isna()"
   ]
  },
  {
   "cell_type": "code",
   "execution_count": 76,
   "id": "b01ae97b-960a-42ef-860e-bc6dd8bbd55d",
   "metadata": {},
   "outputs": [],
   "source": [
    "# Make a copy of the original DataFrame to preserve its state before interpolation.\n",
    "# Then, fill the missing 'Units_Sold' values using linear interpolation, applied within each product group.\n",
    "# 'limit_direction=\"both\"' ensures that interpolation works at the start or end of each group if needed.\n",
    "df_interpolated = df.copy()\n",
    "df_interpolated['Units_Sold'] = df.groupby('Product')['Units_Sold'].transform(\n",
    "    lambda x: x.interpolate(method='linear', limit_direction='both'))"
   ]
  },
  {
   "cell_type": "code",
   "execution_count": 77,
   "id": "c8580160-a455-4047-8793-0c257c636fa9",
   "metadata": {},
   "outputs": [
    {
     "data": {
      "image/png": "[encoded data removed]",
      "text/plain": [
       "<Figure size 1200x600 with 1 Axes>"
      ]
     },
     "metadata": {},
     "output_type": "display_data"
    }
   ],
   "source": [
    "# Create a line chart of Units Sold over time after interpolation.\n",
    "# Red points highlight where interpolation filled originally missing values.\n",
    "# X-axis ticks are shown by year to avoid overcrowding.\n",
    "# A light grey background enhances readability, and a dashed grid improves chart clarity.\n",
    "import matplotlib.pyplot as plt\n",
    "import matplotlib.dates as mdates\n",
    "import seaborn as sns\n",
    "\n",
    "plt.figure(figsize=(12,6))\n",
    "ax = sns.lineplot(data=df_interpolated, x='Date', y='Units_Sold', label='Interpolated Line', color='dodgerblue')\n",
    "\n",
    "# Plot only interpolated points\n",
    "plt.scatter(\n",
    "    df_interpolated.loc[missing_mask, 'Date'],\n",
    "    df_interpolated.loc[missing_mask, 'Units_Sold'],\n",
    "    color='red',\n",
    "    label='Interpolated Points',\n",
    "    zorder=5\n",
    ")\n",
    "\n",
    "# X-axis ticks: Yearly\n",
    "ax.xaxis.set_major_locator(mdates.YearLocator())\n",
    "ax.xaxis.set_major_formatter(mdates.DateFormatter('%Y'))\n",
    "plt.xticks(rotation=0)\n",
    "\n",
    "# Background\n",
    "ax.set_facecolor('#ebe4e4')\n",
    "\n",
    "# Styling\n",
    "plt.grid(True, linestyle='--', linewidth=0.5)\n",
    "plt.title(\"Units Sold with Interpolated Points\")\n",
    "plt.legend()\n",
    "plt.xlabel('')\n",
    "plt.grid(True)\n",
    "plt.tight_layout()\n",
    "plt.show()"
   ]
  },
  {
   "cell_type": "code",
   "execution_count": 78,
   "id": "05a1cacb-b33e-4192-b494-deccfc6c97aa",
   "metadata": {},
   "outputs": [
    {
     "name": "stdout",
     "output_type": "stream",
     "text": [
      "Original mean (with NaN): 119.99561403508773\n",
      "Interpolated mean       : 119.97291666666666\n",
      "Relative difference (%): -0.018918743539532244\n"
     ]
    }
   ],
   "source": [
    "# Compare the overall mean before and after interpolation to check how much the filled values affected dataset statistics\n",
    "print(\"Original mean (with NaN):\", df['Units_Sold'].mean())\n",
    "print(\"Interpolated mean       :\", df_interpolated['Units_Sold'].mean())\n",
    "print(\"Relative difference (%):\", (df_interpolated['Units_Sold'].mean() - df['Units_Sold'].mean()) / df_interpolated['Units_Sold'].mean() * 100)"
   ]
  },
  {
   "cell_type": "code",
   "execution_count": 79,
   "id": "722cf4ce-b779-41a9-96f3-8e177d825f4b",
   "metadata": {},
   "outputs": [
    {
     "data": {
      "text/html": [
       "<div>\n",
       "<style scoped>\n",
       "    .dataframe tbody tr th:only-of-type {\n",
       "        vertical-align: middle;\n",
       "    }\n",
       "\n",
       "    .dataframe tbody tr th {\n",
       "        vertical-align: top;\n",
       "    }\n",
       "\n",
       "    .dataframe thead th {\n",
       "        text-align: right;\n",
       "    }\n",
       "</style>\n",
       "<table border=\"1\" class=\"dataframe\">\n",
       "  <thead>\n",
       "    <tr style=\"text-align: right;\">\n",
       "      <th></th>\n",
       "      <th>Date</th>\n",
       "      <th>Product</th>\n",
       "      <th>Before</th>\n",
       "      <th>After</th>\n",
       "    </tr>\n",
       "  </thead>\n",
       "  <tbody>\n",
       "    <tr>\n",
       "      <th>7</th>\n",
       "      <td>2019-08-01</td>\n",
       "      <td>Alpha</td>\n",
       "      <td>NaN</td>\n",
       "      <td>98.0</td>\n",
       "    </tr>\n",
       "    <tr>\n",
       "      <th>17</th>\n",
       "      <td>2020-06-01</td>\n",
       "      <td>Alpha</td>\n",
       "      <td>NaN</td>\n",
       "      <td>114.5</td>\n",
       "    </tr>\n",
       "    <tr>\n",
       "      <th>115</th>\n",
       "      <td>2023-08-01</td>\n",
       "      <td>Beta</td>\n",
       "      <td>NaN</td>\n",
       "      <td>110.0</td>\n",
       "    </tr>\n",
       "    <tr>\n",
       "      <th>135</th>\n",
       "      <td>2020-04-01</td>\n",
       "      <td>Gamma</td>\n",
       "      <td>NaN</td>\n",
       "      <td>137.0</td>\n",
       "    </tr>\n",
       "    <tr>\n",
       "      <th>163</th>\n",
       "      <td>2022-08-01</td>\n",
       "      <td>Gamma</td>\n",
       "      <td>NaN</td>\n",
       "      <td>105.5</td>\n",
       "    </tr>\n",
       "    <tr>\n",
       "      <th>167</th>\n",
       "      <td>2022-12-01</td>\n",
       "      <td>Gamma</td>\n",
       "      <td>NaN</td>\n",
       "      <td>118.0</td>\n",
       "    </tr>\n",
       "    <tr>\n",
       "      <th>171</th>\n",
       "      <td>2023-04-01</td>\n",
       "      <td>Gamma</td>\n",
       "      <td>NaN</td>\n",
       "      <td>136.0</td>\n",
       "    </tr>\n",
       "    <tr>\n",
       "      <th>186</th>\n",
       "      <td>2019-07-01</td>\n",
       "      <td>Delta</td>\n",
       "      <td>NaN</td>\n",
       "      <td>113.5</td>\n",
       "    </tr>\n",
       "    <tr>\n",
       "      <th>190</th>\n",
       "      <td>2019-11-01</td>\n",
       "      <td>Delta</td>\n",
       "      <td>NaN</td>\n",
       "      <td>104.0</td>\n",
       "    </tr>\n",
       "    <tr>\n",
       "      <th>218</th>\n",
       "      <td>2022-03-01</td>\n",
       "      <td>Delta</td>\n",
       "      <td>NaN</td>\n",
       "      <td>150.0</td>\n",
       "    </tr>\n",
       "    <tr>\n",
       "      <th>232</th>\n",
       "      <td>2023-05-01</td>\n",
       "      <td>Delta</td>\n",
       "      <td>NaN</td>\n",
       "      <td>139.0</td>\n",
       "    </tr>\n",
       "    <tr>\n",
       "      <th>236</th>\n",
       "      <td>2023-09-01</td>\n",
       "      <td>Delta</td>\n",
       "      <td>NaN</td>\n",
       "      <td>109.0</td>\n",
       "    </tr>\n",
       "  </tbody>\n",
       "</table>\n",
       "</div>"
      ],
      "text/plain": [
       "          Date Product  Before  After\n",
       "7   2019-08-01   Alpha     NaN   98.0\n",
       "17  2020-06-01   Alpha     NaN  114.5\n",
       "115 2023-08-01    Beta     NaN  110.0\n",
       "135 2020-04-01   Gamma     NaN  137.0\n",
       "163 2022-08-01   Gamma     NaN  105.5\n",
       "167 2022-12-01   Gamma     NaN  118.0\n",
       "171 2023-04-01   Gamma     NaN  136.0\n",
       "186 2019-07-01   Delta     NaN  113.5\n",
       "190 2019-11-01   Delta     NaN  104.0\n",
       "218 2022-03-01   Delta     NaN  150.0\n",
       "232 2023-05-01   Delta     NaN  139.0\n",
       "236 2023-09-01   Delta     NaN  109.0"
      ]
     },
     "metadata": {},
     "output_type": "display_data"
    }
   ],
   "source": [
    "# Create a table showing where interpolation occurred:\n",
    "# - 'Before' shows missing values (NaN)\n",
    "# - 'After' shows interpolated values that replaced them\n",
    "comparison = df.loc[missing_mask, ['Date', 'Product']].copy()\n",
    "comparison['Before'] = np.nan\n",
    "comparison['After'] = df_interpolated.loc[missing_mask, 'Units_Sold'].values\n",
    "display(comparison)"
   ]
  },
  {
   "cell_type": "code",
   "execution_count": 80,
   "id": "c0e9141e-9e1f-4b56-9795-8dc9db0296c6",
   "metadata": {},
   "outputs": [
    {
     "data": {
      "text/html": [
       "<div>\n",
       "<style scoped>\n",
       "    .dataframe tbody tr th:only-of-type {\n",
       "        vertical-align: middle;\n",
       "    }\n",
       "\n",
       "    .dataframe tbody tr th {\n",
       "        vertical-align: top;\n",
       "    }\n",
       "\n",
       "    .dataframe thead th {\n",
       "        text-align: right;\n",
       "    }\n",
       "</style>\n",
       "<table border=\"1\" class=\"dataframe\">\n",
       "  <thead>\n",
       "    <tr style=\"text-align: right;\">\n",
       "      <th></th>\n",
       "      <th>Date</th>\n",
       "      <th>Product</th>\n",
       "    </tr>\n",
       "  </thead>\n",
       "  <tbody>\n",
       "    <tr>\n",
       "      <th>7</th>\n",
       "      <td>2019-08-01</td>\n",
       "      <td>Alpha</td>\n",
       "    </tr>\n",
       "    <tr>\n",
       "      <th>17</th>\n",
       "      <td>2020-06-01</td>\n",
       "      <td>Alpha</td>\n",
       "    </tr>\n",
       "    <tr>\n",
       "      <th>115</th>\n",
       "      <td>2023-08-01</td>\n",
       "      <td>Beta</td>\n",
       "    </tr>\n",
       "    <tr>\n",
       "      <th>135</th>\n",
       "      <td>2020-04-01</td>\n",
       "      <td>Gamma</td>\n",
       "    </tr>\n",
       "    <tr>\n",
       "      <th>163</th>\n",
       "      <td>2022-08-01</td>\n",
       "      <td>Gamma</td>\n",
       "    </tr>\n",
       "    <tr>\n",
       "      <th>167</th>\n",
       "      <td>2022-12-01</td>\n",
       "      <td>Gamma</td>\n",
       "    </tr>\n",
       "    <tr>\n",
       "      <th>171</th>\n",
       "      <td>2023-04-01</td>\n",
       "      <td>Gamma</td>\n",
       "    </tr>\n",
       "    <tr>\n",
       "      <th>186</th>\n",
       "      <td>2019-07-01</td>\n",
       "      <td>Delta</td>\n",
       "    </tr>\n",
       "    <tr>\n",
       "      <th>190</th>\n",
       "      <td>2019-11-01</td>\n",
       "      <td>Delta</td>\n",
       "    </tr>\n",
       "    <tr>\n",
       "      <th>218</th>\n",
       "      <td>2022-03-01</td>\n",
       "      <td>Delta</td>\n",
       "    </tr>\n",
       "    <tr>\n",
       "      <th>232</th>\n",
       "      <td>2023-05-01</td>\n",
       "      <td>Delta</td>\n",
       "    </tr>\n",
       "    <tr>\n",
       "      <th>236</th>\n",
       "      <td>2023-09-01</td>\n",
       "      <td>Delta</td>\n",
       "    </tr>\n",
       "  </tbody>\n",
       "</table>\n",
       "</div>"
      ],
      "text/plain": [
       "          Date Product\n",
       "7   2019-08-01   Alpha\n",
       "17  2020-06-01   Alpha\n",
       "115 2023-08-01    Beta\n",
       "135 2020-04-01   Gamma\n",
       "163 2022-08-01   Gamma\n",
       "167 2022-12-01   Gamma\n",
       "171 2023-04-01   Gamma\n",
       "186 2019-07-01   Delta\n",
       "190 2019-11-01   Delta\n",
       "218 2022-03-01   Delta\n",
       "232 2023-05-01   Delta\n",
       "236 2023-09-01   Delta"
      ]
     },
     "execution_count": 80,
     "metadata": {},
     "output_type": "execute_result"
    }
   ],
   "source": [
    "df[df['Units_Sold'].isna()][['Date', 'Product']]"
   ]
  },
  {
   "cell_type": "code",
   "execution_count": 81,
   "id": "5c172ac4-57ec-4b0b-acb3-03057197fac1",
   "metadata": {},
   "outputs": [],
   "source": [
    "# Create a report of missing values for transparency\n",
    "Product_Sales_Missing_Report = df[df['Units_Sold'].isna()][['Date', 'Product']]\n",
    "Product_Sales_Missing_Report['Imputed'] = True"
   ]
  },
  {
   "cell_type": "code",
   "execution_count": 82,
   "id": "583ea31d-76f5-4cdc-9993-1e48d62de305",
   "metadata": {},
   "outputs": [
    {
     "data": {
      "text/plain": [
       "Date        Product  Imputed\n",
       "2019-07-01  Delta    True       1\n",
       "2019-08-01  Alpha    True       1\n",
       "2019-11-01  Delta    True       1\n",
       "2020-04-01  Gamma    True       1\n",
       "2020-06-01  Alpha    True       1\n",
       "2022-03-01  Delta    True       1\n",
       "2022-08-01  Gamma    True       1\n",
       "2022-12-01  Gamma    True       1\n",
       "2023-04-01  Gamma    True       1\n",
       "2023-05-01  Delta    True       1\n",
       "2023-08-01  Beta     True       1\n",
       "2023-09-01  Delta    True       1\n",
       "Name: count, dtype: int64"
      ]
     },
     "execution_count": 82,
     "metadata": {},
     "output_type": "execute_result"
    }
   ],
   "source": [
    "Product_Sales_Missing_Report.value_counts()"
   ]
  },
  {
   "cell_type": "code",
   "execution_count": 83,
   "id": "76b7e29e-b38a-43ee-b10f-1c7f919c9a98",
   "metadata": {},
   "outputs": [
    {
     "data": {
      "text/plain": [
       "12"
      ]
     },
     "execution_count": 83,
     "metadata": {},
     "output_type": "execute_result"
    }
   ],
   "source": [
    "Product_Sales_Missing_Report.value_counts().count()"
   ]
  },
  {
   "cell_type": "code",
   "execution_count": 84,
   "id": "898c3e53-4f3f-45f6-bfff-f68132bdb9a9",
   "metadata": {},
   "outputs": [
    {
     "data": {
      "text/plain": [
       "Date          0\n",
       "Product       0\n",
       "Units_Sold    0\n",
       "Unit_Price    0\n",
       "Month         0\n",
       "Year          0\n",
       "dtype: int64"
      ]
     },
     "execution_count": 84,
     "metadata": {},
     "output_type": "execute_result"
    }
   ],
   "source": [
    "# Verify that all NaN values have been handled\n",
    "df_interpolated.isna().sum()"
   ]
  },
  {
   "cell_type": "code",
   "execution_count": 85,
   "id": "499a1d17-0f96-4a8b-9ef3-6f51764f76e3",
   "metadata": {},
   "outputs": [],
   "source": [
    "# Compute total revenue per row\n",
    "df_interpolated['Revenue'] = df_interpolated['Units_Sold'] * df_interpolated['Unit_Price']"
   ]
  },
  {
   "cell_type": "code",
   "execution_count": 86,
   "id": "ee1f1c66-5f40-4723-9565-65ca4f167411",
   "metadata": {},
   "outputs": [],
   "source": [
    "# Set flag to actual boolean type\n",
    "df_interpolated['Interpolated_Flag'] = df['Units_Sold'].isna()"
   ]
  },
  {
   "cell_type": "code",
   "execution_count": 87,
   "id": "6f83a03e-61fe-4cf0-bb60-9270ddbd34dd",
   "metadata": {},
   "outputs": [],
   "source": [
    "df_interpolated['Interpolated_Flag'] = df_interpolated['Interpolated_Flag'].astype(bool)"
   ]
  },
  {
   "cell_type": "code",
   "execution_count": 88,
   "id": "97678f1c-3a2c-428f-9015-26ba6efcb102",
   "metadata": {},
   "outputs": [
    {
     "data": {
      "text/html": [
       "<div>\n",
       "<style scoped>\n",
       "    .dataframe tbody tr th:only-of-type {\n",
       "        vertical-align: middle;\n",
       "    }\n",
       "\n",
       "    .dataframe tbody tr th {\n",
       "        vertical-align: top;\n",
       "    }\n",
       "\n",
       "    .dataframe thead th {\n",
       "        text-align: right;\n",
       "    }\n",
       "</style>\n",
       "<table border=\"1\" class=\"dataframe\">\n",
       "  <thead>\n",
       "    <tr style=\"text-align: right;\">\n",
       "      <th></th>\n",
       "      <th>Date</th>\n",
       "      <th>Product</th>\n",
       "      <th>Units_Sold</th>\n",
       "      <th>Unit_Price</th>\n",
       "      <th>Month</th>\n",
       "      <th>Year</th>\n",
       "      <th>Revenue</th>\n",
       "      <th>Interpolated_Flag</th>\n",
       "    </tr>\n",
       "  </thead>\n",
       "  <tbody>\n",
       "    <tr>\n",
       "      <th>0</th>\n",
       "      <td>2019-01-01</td>\n",
       "      <td>Alpha</td>\n",
       "      <td>146.0</td>\n",
       "      <td>100.151629</td>\n",
       "      <td>Jan</td>\n",
       "      <td>2019</td>\n",
       "      <td>14622.137902</td>\n",
       "      <td>False</td>\n",
       "    </tr>\n",
       "    <tr>\n",
       "      <th>1</th>\n",
       "      <td>2019-02-01</td>\n",
       "      <td>Alpha</td>\n",
       "      <td>144.0</td>\n",
       "      <td>120.196688</td>\n",
       "      <td>Feb</td>\n",
       "      <td>2019</td>\n",
       "      <td>17308.323033</td>\n",
       "      <td>False</td>\n",
       "    </tr>\n",
       "    <tr>\n",
       "      <th>2</th>\n",
       "      <td>2019-03-01</td>\n",
       "      <td>Alpha</td>\n",
       "      <td>129.0</td>\n",
       "      <td>59.398194</td>\n",
       "      <td>Mar</td>\n",
       "      <td>2019</td>\n",
       "      <td>7662.367024</td>\n",
       "      <td>False</td>\n",
       "    </tr>\n",
       "    <tr>\n",
       "      <th>3</th>\n",
       "      <td>2019-04-01</td>\n",
       "      <td>Alpha</td>\n",
       "      <td>136.0</td>\n",
       "      <td>96.559802</td>\n",
       "      <td>Apr</td>\n",
       "      <td>2019</td>\n",
       "      <td>13132.133047</td>\n",
       "      <td>False</td>\n",
       "    </tr>\n",
       "    <tr>\n",
       "      <th>4</th>\n",
       "      <td>2019-05-01</td>\n",
       "      <td>Alpha</td>\n",
       "      <td>129.0</td>\n",
       "      <td>109.083326</td>\n",
       "      <td>May</td>\n",
       "      <td>2019</td>\n",
       "      <td>14071.749061</td>\n",
       "      <td>False</td>\n",
       "    </tr>\n",
       "    <tr>\n",
       "      <th>5</th>\n",
       "      <td>2019-06-01</td>\n",
       "      <td>Alpha</td>\n",
       "      <td>86.0</td>\n",
       "      <td>132.260056</td>\n",
       "      <td>Jun</td>\n",
       "      <td>2019</td>\n",
       "      <td>11374.364822</td>\n",
       "      <td>False</td>\n",
       "    </tr>\n",
       "    <tr>\n",
       "      <th>6</th>\n",
       "      <td>2019-07-01</td>\n",
       "      <td>Alpha</td>\n",
       "      <td>108.0</td>\n",
       "      <td>102.224326</td>\n",
       "      <td>Jul</td>\n",
       "      <td>2019</td>\n",
       "      <td>11040.227209</td>\n",
       "      <td>False</td>\n",
       "    </tr>\n",
       "    <tr>\n",
       "      <th>7</th>\n",
       "      <td>2019-08-01</td>\n",
       "      <td>Alpha</td>\n",
       "      <td>98.0</td>\n",
       "      <td>112.289048</td>\n",
       "      <td>Aug</td>\n",
       "      <td>2019</td>\n",
       "      <td>11004.326663</td>\n",
       "      <td>True</td>\n",
       "    </tr>\n",
       "  </tbody>\n",
       "</table>\n",
       "</div>"
      ],
      "text/plain": [
       "        Date Product  Units_Sold  Unit_Price Month  Year       Revenue  \\\n",
       "0 2019-01-01   Alpha       146.0  100.151629   Jan  2019  14622.137902   \n",
       "1 2019-02-01   Alpha       144.0  120.196688   Feb  2019  17308.323033   \n",
       "2 2019-03-01   Alpha       129.0   59.398194   Mar  2019   7662.367024   \n",
       "3 2019-04-01   Alpha       136.0   96.559802   Apr  2019  13132.133047   \n",
       "4 2019-05-01   Alpha       129.0  109.083326   May  2019  14071.749061   \n",
       "5 2019-06-01   Alpha        86.0  132.260056   Jun  2019  11374.364822   \n",
       "6 2019-07-01   Alpha       108.0  102.224326   Jul  2019  11040.227209   \n",
       "7 2019-08-01   Alpha        98.0  112.289048   Aug  2019  11004.326663   \n",
       "\n",
       "   Interpolated_Flag  \n",
       "0              False  \n",
       "1              False  \n",
       "2              False  \n",
       "3              False  \n",
       "4              False  \n",
       "5              False  \n",
       "6              False  \n",
       "7               True  "
      ]
     },
     "execution_count": 88,
     "metadata": {},
     "output_type": "execute_result"
    }
   ],
   "source": [
    "# Preview the updated dataset\n",
    "df_interpolated.head(8)"
   ]
  },
  {
   "cell_type": "code",
   "execution_count": null,
   "id": "ed9d24eb-8202-4c4c-96dd-cf657fa1223c",
   "metadata": {},
   "outputs": [],
   "source": [
    "def maybe_save(df: pd.DataFrame, filename: str):\n",
    "    \"\"\"\n",
    "    Save to scratch_outputs/ only if SAVE_OUTPUTS is True.\n",
    "    Prevents overwriting the canonical CSVs in data/processed/.\n",
    "    \"\"\"\n",
    "    if SAVE_OUTPUTS:\n",
    "        df.to_csv(EXPORT_DIR / filename, index=False)\n",
    "        print(f\"🔸 Saved {filename} to {EXPORT_DIR}\")\n",
    "    else:\n",
    "        print(f\"⏩ Skipped saving {filename} (SAVE_OUTPUTS = False)\")"
   ]
  },
  {
   "cell_type": "code",
   "execution_count": null,
   "id": "86b83d08-3235-49b8-833b-bc551403619d",
   "metadata": {},
   "outputs": [],
   "source": [
    "# Save the cleaned and enriched dataset for further use (e.g., Power BI or next analysis steps)\n",
    "maybe_save(df_interpolated, \"03-product_sales_interpolated_data.csv\")"
   ]
  },
  {
   "cell_type": "code",
   "execution_count": null,
   "id": "7a6de719-9817-4f3e-80d3-9cc2241e81d9",
   "metadata": {},
   "outputs": [],
   "source": [
    "# Save the table highlighting interpolated points\n",
    "maybe_save(comparison, \"04-product_sales_interpolation_points.csv\")"
   ]
  },
  {
   "cell_type": "code",
   "execution_count": null,
   "id": "0256ac01-5006-41af-a420-bc3bae0f0547",
   "metadata": {},
   "outputs": [],
   "source": []
  }
 ],
 "metadata": {
  "kernelspec": {
   "display_name": "Python [conda env:base] *",
   "language": "python",
   "name": "conda-base-py"
  },
  "language_info": {
   "codemirror_mode": {
    "name": "ipython",
    "version": 3
   },
   "file_extension": ".py",
   "mimetype": "text/x-python",
   "name": "python",
   "nbconvert_exporter": "python",
   "pygments_lexer": "ipython3",
   "version": "3.12.7"
  }
 },
 "nbformat": 4,
 "nbformat_minor": 5
}
